{
 "metadata": {
  "name": "",
  "signature": "sha256:9718cfb0ea92af60fa4bc99b8607f1511d49200554183518a8e90579727f9daf"
 },
 "nbformat": 3,
 "nbformat_minor": 0,
 "worksheets": [
  {
   "cells": [
    {
     "cell_type": "code",
     "collapsed": false,
     "input": [
      "#!/usr/bin/python\n",
      "\n",
      "'''\n",
      "This program is to rehash the value of the attributes to 0 - N, \n",
      "which is easy for further processing.\n",
      "The target rehashed index is target_index = [1,4,7,10,13,14] in train file\n",
      "and after running the program, the corresponding number of value is:\n",
      "\n",
      "'''\n",
      "\n",
      "input_file_train = \"Data/train_1234_new.txt\"\n",
      "input_file_test = \"Data/validation_5_new.txt\"\n",
      "input_file_final_test = \"Data/test_6_new.txt\"\n",
      "output_file_train = \"Data/train_1234_new_rehashed.txt\"\n",
      "output_file_test = \"Data/validation_5_new_rehashed.txt\"\n",
      "output_file_final_test = \"Data/test_6_new_rehashed.txt\"\n",
      "N = 11\n",
      "dictionary_train = [{} for b in range(N)]\n",
      "dictionary_count = [0 for b in range(N)]\n",
      "\n",
      "with open(input_file_train,'r') as infile:\n",
      "    for line in infile:\n",
      "        attributes = line.split(',')\n",
      "        for i in range(len(attributes)):\n",
      "            if attributes[i] not in dictionary_train[i]:\n",
      "                dictionary_train[i][attributes[i]] = dictionary_count[i]\n",
      "                dictionary_count[i] += 1\n",
      "        \n",
      "        with open(output_file_train,'a') as outfile:\n",
      "            for i in range(len(attributes)):\n",
      "                if i != 0:\n",
      "                    outfile.write(',' + str(dictionary_train[i][attributes[i]]))\n",
      "                else:\n",
      "                    outfile.write(str(dictionary_train[i][attributes[i]]))\n",
      "            outfile.write('\\n')\n",
      "    \n",
      "            "
     ],
     "language": "python",
     "metadata": {},
     "outputs": [],
     "prompt_number": 1
    },
    {
     "cell_type": "code",
     "collapsed": false,
     "input": [
      "delete_count = 0\n",
      "\n",
      "with open(input_file_test,'r') as infile:\n",
      "    for line in infile:\n",
      "        attributes = line.split(',')\n",
      "        \n",
      "        nonexist = False\n",
      "        for i in range(len(attributes)):\n",
      "            if attributes[i] not in dictionary_train[i]:\n",
      "                nonexist = True\n",
      "                delete_count += 1\n",
      "                break\n",
      "        \n",
      "        if nonexist:\n",
      "            continue\n",
      "        else:\n",
      "            with open(output_file_test,'a') as outfile:\n",
      "                for i in range(len(attributes)):\n",
      "                    if i != 0:\n",
      "                        outfile.write(',' + str(dictionary_train[i][attributes[i]]))\n",
      "                    else:\n",
      "                        outfile.write(str(dictionary_train[i][attributes[i]]))\n",
      "                outfile.write('\\n')\n",
      "                \n",
      "print delete_count"
     ],
     "language": "python",
     "metadata": {},
     "outputs": [
      {
       "output_type": "stream",
       "stream": "stdout",
       "text": [
        "45524\n"
       ]
      }
     ],
     "prompt_number": 2
    },
    {
     "cell_type": "code",
     "collapsed": false,
     "input": [
      "delete_count = 0\n",
      "\n",
      "with open(input_file_final_test,'r') as infile:\n",
      "    for line in infile:\n",
      "        attributes = line.split(',')\n",
      "        \n",
      "        nonexist = False\n",
      "        for i in range(len(attributes)):\n",
      "            if attributes[i] not in dictionary_train[i]:\n",
      "                nonexist = True\n",
      "                delete_count += 1\n",
      "                break\n",
      "        \n",
      "        if nonexist:\n",
      "            continue\n",
      "        else:\n",
      "            with open(output_file_final_test,'a') as outfile:\n",
      "                for i in range(len(attributes)):\n",
      "                    if i != 0:\n",
      "                        outfile.write(',' + str(dictionary_train[i][attributes[i]]))\n",
      "                    else:\n",
      "                        outfile.write(str(dictionary_train[i][attributes[i]]))\n",
      "                outfile.write('\\n')\n",
      "                \n",
      "print delete_count"
     ],
     "language": "python",
     "metadata": {},
     "outputs": []
    }
   ],
   "metadata": {}
  }
 ]
}