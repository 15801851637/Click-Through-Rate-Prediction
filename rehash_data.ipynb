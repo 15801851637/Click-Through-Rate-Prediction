{
 "metadata": {
  "name": "",
  "signature": "sha256:4ec79c96ba9be28db82e2968f63b84db6bf65209c9b1658f66d20b6e823a0c9c"
 },
 "nbformat": 3,
 "nbformat_minor": 0,
 "worksheets": [
  {
   "cells": [
    {
     "cell_type": "code",
     "collapsed": false,
     "input": [
      "#!/usr/bin/python\n",
      "\n",
      "'''\n",
      "This program is to rehash the value of the attributes to 0 - N, \n",
      "which is easy for further processing.\n",
      "The target rehashed index is target_index = [1,4,7,10,13,14] in train file\n",
      "and after running the program, the corresponding number of value is:\n",
      "\n",
      "'''\n",
      "\n",
      "input_file_train = \"Data/train_1234.txt\"\n",
      "input_file_test = \"Data/validation_5.txt\"\n",
      "input_file_final_test = \"Data/test_6.txt\"\n",
      "output_file_train = \"Data/train_1234_rehashed.txt\"\n",
      "output_file_test = \"Data/validation_5_rehashed.txt\"\n",
      "output_file_final_test = \"Data/test_6_rehashed.txt\"\n",
      "dictionary_train = [{} for b in range(6)]\n",
      "dictionary_count = [0 for b in range(6)]\n",
      "\n",
      "with open(input_file_train,'r') as infile:\n",
      "    for line in infile:\n",
      "        attributes = line.split(',')\n",
      "        for i in range(len(attributes)):\n",
      "            if attributes[i] not in dictionary_train[i]:\n",
      "                dictionary_train[i][attributes[i]] = dictionary_count[i]\n",
      "                dictionary_count[i] += 1\n",
      "        \n",
      "        with open(output_file_train,'a') as outfile:\n",
      "            for i in range(len(attributes)):\n",
      "                if i != 0:\n",
      "                    outfile.write(',' + str(dictionary_train[i][attributes[i]]))\n",
      "                else:\n",
      "                    outfile.write(str(dictionary_train[i][attributes[i]]))\n",
      "            outfile.write('\\n')\n",
      "    \n",
      "            "
     ],
     "language": "python",
     "metadata": {},
     "outputs": [],
     "prompt_number": 1
    },
    {
     "cell_type": "code",
     "collapsed": false,
     "input": [
      "delete_count = 0\n",
      "\n",
      "with open(input_file_test,'r') as infile:\n",
      "    for line in infile:\n",
      "        attributes = line.split(',')\n",
      "        \n",
      "        nonexist = False\n",
      "        for i in range(len(attributes)):\n",
      "            if attributes[i] not in dictionary_train[i]:\n",
      "                nonexist = True\n",
      "                delete_count += 1\n",
      "                break\n",
      "        \n",
      "        if nonexist:\n",
      "            continue\n",
      "        else:\n",
      "            with open(output_file_test,'a') as outfile:\n",
      "                for i in range(len(attributes)):\n",
      "                    if i != 0:\n",
      "                        outfile.write(',' + str(dictionary_train[i][attributes[i]]))\n",
      "                    else:\n",
      "                        outfile.write(str(dictionary_train[i][attributes[i]]))\n",
      "                outfile.write('\\n')\n",
      "                \n",
      "print delete_count"
     ],
     "language": "python",
     "metadata": {},
     "outputs": [
      {
       "output_type": "stream",
       "stream": "stdout",
       "text": [
        "571\n"
       ]
      }
     ],
     "prompt_number": 2
    },
    {
     "cell_type": "code",
     "collapsed": false,
     "input": [
      "delete_count = 0\n",
      "\n",
      "with open(input_file_final_test,'r') as infile:\n",
      "    for line in infile:\n",
      "        attributes = line.split(',')\n",
      "        \n",
      "        nonexist = False\n",
      "        for i in range(len(attributes)):\n",
      "            if attributes[i] not in dictionary_train[i]:\n",
      "                nonexist = True\n",
      "                delete_count += 1\n",
      "                break\n",
      "        \n",
      "        if nonexist:\n",
      "            continue\n",
      "        else:\n",
      "            with open(output_file_final_test,'a') as outfile:\n",
      "                for i in range(len(attributes)):\n",
      "                    if i != 0:\n",
      "                        outfile.write(',' + str(dictionary_train[i][attributes[i]]))\n",
      "                    else:\n",
      "                        outfile.write(str(dictionary_train[i][attributes[i]]))\n",
      "                outfile.write('\\n')\n",
      "                \n",
      "print delete_count"
     ],
     "language": "python",
     "metadata": {},
     "outputs": [
      {
       "output_type": "stream",
       "stream": "stdout",
       "text": [
        "550\n"
       ]
      }
     ],
     "prompt_number": 3
    }
   ],
   "metadata": {}
  }
 ]
}