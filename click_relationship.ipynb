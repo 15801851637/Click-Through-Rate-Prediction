{
 "metadata": {
  "name": "",
  "signature": "sha256:773dec7c5a6dcd9a5ef5bc0be9e9f46c39ee99c50a1e2bddcae170e957fd12aa"
 },
 "nbformat": 3,
 "nbformat_minor": 0,
 "worksheets": [
  {
   "cells": [
    {
     "cell_type": "code",
     "collapsed": false,
     "input": [
      "\n",
      "'''\n",
      "id,click,hour,C1,banner_pos,\n",
      "site_id,site_domain,site_category,app_id,app_domain,\n",
      "app_category,device_id,device_ip,device_model,device_type,\n",
      "device_conn_type,C14,C15,C16,C17,\n",
      "C18,C19,C20,C21\n",
      "\u5176\u4e2did, hour\u4e0d\u8981\n",
      "'''\n",
      "name_arr = ['id','click','hour','C1','banner_pos','site_id','site_domain','site_category','app_id','app_domain','app_category','device_id','device_ip','device_model','device_type','device_conn_type','C14','C15','C16','C17','C18','C19','C20','C21']\n",
      "\n",
      "import matplotlib.pyplot as plt\n",
      "import numpy as np\n",
      "input_train_file = \"Data/train\"\n",
      "\n",
      "dictionary = [{} for b in range(24)]\n",
      "\n",
      "\n",
      "with open(input_train_file,'r') as infile:\n",
      "    for line in infile:\n",
      "        \n",
      "        attributes = line.split(',')        \n",
      "        hour = attributes[2]\n",
      "        \n",
      "        if hour >= '14102500':\n",
      "            continue\n",
      "            \n",
      "        for i in range(len(attributes)):\n",
      "            if i == 0 or i == 1 or i == 2:\n",
      "                continue\n",
      "            if attributes[i] not in dictionary[i]:\n",
      "                dictionary[i][attributes[i]] = [0,0]\n",
      "            dictionary[i][attributes[i]][int(attributes[1])] += 1\n",
      "            "
     ],
     "language": "python",
     "metadata": {},
     "outputs": [],
     "prompt_number": 29
    },
    {
     "cell_type": "code",
     "collapsed": false,
     "input": [
      "\n",
      "import numpy as np\n",
      "import matplotlib.pyplot as plt\n",
      "name_arr = ['id','click','hour','C1','banner_pos','site_id','site_domain','site_category','app_id','app_domain','app_category','device_id','device_ip','device_model','device_type','device_conn_type','C14','C15','C16','C17','C18','C19','C20','C21']\n",
      "\n",
      "for i in range(len(dictionary)):\n",
      "    if i == 0 or i == 1 or i == 2:\n",
      "        continue\n",
      "    x = [b for b in range(len(dictionary[i]))]\n",
      "    N = len(x)\n",
      "    ind = np.arange(N)\n",
      "    nonclick = []\n",
      "    click = []\n",
      "    total = []\n",
      "    for j in dictionary[i]:\n",
      "        nonclick.append(dictionary[i][j][0])\n",
      "        click.append(dictionary[i][j][1])\n",
      "        total.append(1.0 * dictionary[i][j][1] / (dictionary[i][j][0] + dictionary[i][j][1]))\n",
      "    \n",
      "    print i,name_arr[i],N, \"%0.2f\" % (np.var(total) * 100), \"%0.2f\" % (np.mean(total) * 100), \"%0.2f\" % (np.mean(click) * 100)\n",
      "    '''\n",
      "    p1 = plt.bar(ind, click, color='r')\n",
      "    p2 = plt.bar(ind, nonclick, color='b')\n",
      "    plt.legend( (p1[0], p2[0]), ('Click', 'Nonclick') )\n",
      "    plt.ylabel('Number')\n",
      "    plt.title('Numbers by different category')\n",
      "    plt.show()\n",
      "    '''\n",
      "'''\n",
      "\u6839\u636e\u521a\u521a\u6211\u505a\u7684\u7edf\u8ba1\u7ed3\u679c\uff0c\u6311\u4e00\u4e0b \u6211\u8ba4\u4e3a\u6bd4\u8f83\u6709\u7528attribute\u51fa\u6765\uff1a\n",
      "\u6807\u51c61. \u5c3d\u91cf\u503c\u5c11\n",
      "\u6807\u51c62. \u5c3d\u91cfvariance\u5927\n",
      "\u4e3b\u8981:\n",
      "C1, banner_pos, app_domain, device_type, device_conn_type, C15, C16, C18, C19\n",
      "\u611f\u89c9\u4e8c\u8005\u6709\u5173\u8054:\n",
      "site_category,app_category,\n",
      "'''"
     ],
     "language": "python",
     "metadata": {},
     "outputs": [
      {
       "output_type": "stream",
       "stream": "stdout",
       "text": [
        "3 C1 7 0.40 10.59 40642557.14\n",
        "4 banner_pos 7 1.76 18.41 40642557.14\n",
        "5 site_id 3909 5.00 17.62 72780.23\n",
        "6 site_domain 5572 7.35 19.11 51058.49\n",
        "7 site_category 24 "
       ]
      },
      {
       "output_type": "stream",
       "stream": "stdout",
       "text": [
        "0.66 9.63 11854079.17\n",
        "8 app_id 6503 8.13 18.66 43748.72\n",
        "9 app_domain 440 7.53 15.40 646586.14\n",
        "10 app_category 35 0.55 7.47 8128511.43\n",
        "11"
       ]
      },
      {
       "output_type": "stream",
       "stream": "stdout",
       "text": [
        " device_id 1201222 "
       ]
      },
      {
       "output_type": "stream",
       "stream": "stdout",
       "text": [
        "12.94 "
       ]
      },
      {
       "output_type": "stream",
       "stream": "stdout",
       "text": [
        "18.46 "
       ]
      },
      {
       "output_type": "stream",
       "stream": "stdout",
       "text": [
        "236.84\n",
        "12"
       ]
      },
      {
       "output_type": "stream",
       "stream": "stdout",
       "text": [
        " device_ip 3206973 "
       ]
      },
      {
       "output_type": "stream",
       "stream": "stdout",
       "text": [
        "12.62 "
       ]
      },
      {
       "output_type": "stream",
       "stream": "stdout",
       "text": [
        "20.41 "
       ]
      },
      {
       "output_type": "stream",
       "stream": "stdout",
       "text": [
        "88.71\n",
        "13"
       ]
      },
      {
       "output_type": "stream",
       "stream": "stdout",
       "text": [
        " device_model 7291 3.46 18.18 39020.42\n",
        "14 device_type 4 0.27 14.60 71124475.00\n",
        "15 device_conn_type 4 0.38 10.08 71124475.00\n",
        "16 C14 1309 1.87 16.09 217339.88\n",
        "17 C15 8 3.45 25.44 35562237.50\n",
        "18 C16 9 3.21 25.41 31610877.78\n",
        "19 C17 273 1.45 15.47 1042116.85\n",
        "20 C18 4 0.75 16.00 71124475.00\n",
        "21 C19 55 1.19 14.23 5172689.09\n",
        "22 C20 169 0.51 13.58 1683419.53\n",
        "23 C21 46 0.62 14.53 6184736.96\n"
       ]
      }
     ],
     "prompt_number": 57
    },
    {
     "cell_type": "code",
     "collapsed": false,
     "input": [
      "\n",
      "import numpy as np\n",
      "import matplotlib.pyplot as plt\n",
      "name_arr = ['id','click','hour','C1','banner_pos','site_id','site_domain','site_category','app_id','app_domain','app_category','device_id','device_ip','device_model','device_type','device_conn_type','C14','C15','C16','C17','C18','C19','C20','C21']\n",
      "\n",
      "for i in range(4,5):#len(dictionary)):\n",
      "    #if i == 0 or i == 1 or i == 2 or i == 5 or i == :\n",
      "    #    continue\n",
      "    x = [b for b in range(len(dictionary[i]))]\n",
      "    N = len(x)\n",
      "    ind = np.arange(N)\n",
      "    nonclick = []\n",
      "    click = []\n",
      "    total = []\n",
      "    for j in dictionary[i]:\n",
      "        nonclick.append(dictionary[i][j][0])\n",
      "        click.append(dictionary[i][j][1])\n",
      "        total.append(1.0 * dictionary[i][j][1] / (dictionary[i][j][0] + dictionary[i][j][1]))\n",
      "    p1 = plt.bar(ind, total, color='r')\n",
      "    plt.show()\n",
      "    '''\n",
      "    p1 = plt.bar(ind, click, color='r')\n",
      "    p2 = plt.bar(ind, nonclick, color='b')\n",
      "    plt.legend( (p1[0], p2[0]), ('Click', 'Nonclick') )\n",
      "    plt.ylabel('Number')\n",
      "    plt.title('Numbers by different category')\n",
      "    plt.show()\n",
      "    '''\n"
     ],
     "language": "python",
     "metadata": {},
     "outputs": [],
     "prompt_number": 60
    }
   ],
   "metadata": {}
  }
 ]
}