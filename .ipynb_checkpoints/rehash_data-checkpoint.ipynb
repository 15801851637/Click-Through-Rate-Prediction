{
 "metadata": {
  "name": "",
  "signature": "sha256:9c06b4d198db024e2ac68a4a8424f1524c35787b52a817cd85ba9753d018d79d"
 },
 "nbformat": 3,
 "nbformat_minor": 0,
 "worksheets": [
  {
   "cells": [
    {
     "cell_type": "code",
     "collapsed": false,
     "input": [
      "#!/usr/bin/python\n",
      "\n",
      "'''\n",
      "This program is to rehash the value of the attributes to 0 - N, \n",
      "which is easy for further processing.\n",
      "The target rehashed index is target_index = [1,4,7,10,13,14] in train file\n",
      "and after running the program, the corresponding number of value is:\n",
      "\n",
      "'''\n",
      "\n",
      "input_file_train = \"Data/train_1234_new.txt\"\n",
      "input_file_test = \"Data/validation_5_new.txt\"\n",
      "input_file_final_test = \"Data/test_6_new.txt\"\n",
      "output_file_train = \"Data/train_1234_new_rehashed.txt\"\n",
      "output_file_test = \"Data/validation_5_new_rehashed.txt\"\n",
      "output_file_final_test = \"Data/test_6_new_rehashed.txt\"\n",
      "N = 11\n",
      "dictionary_train = [{} for b in range(N)]\n",
      "dictionary_count = [0 for b in range(N)]\n",
      "\n",
      "with open(input_file_train,'r') as infile:\n",
      "    for line in infile:\n",
      "        attributes = line.split(',')\n",
      "        for i in range(len(attributes)):\n",
      "            if attributes[i] not in dictionary_train[i]:\n",
      "                dictionary_train[i][attributes[i]] = dictionary_count[i]\n",
      "                dictionary_count[i] += 1\n",
      "        '''\n",
      "        with open(output_file_train,'a') as outfile:\n",
      "            for i in range(len(attributes)):\n",
      "                if i != 0:\n",
      "                    outfile.write(',' + str(dictionary_train[i][attributes[i]]))\n",
      "                else:\n",
      "                    outfile.write(str(dictionary_train[i][attributes[i]]))\n",
      "            outfile.write('\\n')\n",
      "        '''\n",
      "    \n",
      "            "
     ],
     "language": "python",
     "metadata": {},
     "outputs": [],
     "prompt_number": 1
    },
    {
     "cell_type": "code",
     "collapsed": false,
     "input": [
      "delete_count = 0\n",
      "\n",
      "with open(input_file_test,'r') as infile:\n",
      "    for line in infile:\n",
      "        attributes = line.split(',')\n",
      "        \n",
      "        nonexist = False\n",
      "        for i in range(len(attributes)):\n",
      "            if attributes[i] not in dictionary_train[i]:\n",
      "                nonexist = True\n",
      "                delete_count += 1\n",
      "                break\n",
      "        \n",
      "        if nonexist:\n",
      "            continue\n",
      "        else:\n",
      "            with open(output_file_test,'a') as outfile:\n",
      "                for i in range(len(attributes)):\n",
      "                    if i != 0:\n",
      "                        outfile.write(',' + str(dictionary_train[i][attributes[i]]))\n",
      "                    else:\n",
      "                        outfile.write(str(dictionary_train[i][attributes[i]]))\n",
      "                outfile.write('\\n')\n",
      "                \n",
      "print delete_count"
     ],
     "language": "python",
     "metadata": {},
     "outputs": [
      {
       "output_type": "stream",
       "stream": "stdout",
       "text": [
        "45524\n"
       ]
      }
     ],
     "prompt_number": 2
    },
    {
     "cell_type": "code",
     "collapsed": false,
     "input": [
      "delete_count = 0\n",
      "\n",
      "with open(input_file_final_test,'r') as infile:\n",
      "    for line in infile:\n",
      "        attributes = line.split(',')\n",
      "        \n",
      "        nonexist = False\n",
      "        for i in range(len(attributes)):\n",
      "            if attributes[i] not in dictionary_train[i]:\n",
      "                nonexist = True\n",
      "                delete_count += 1\n",
      "                break\n",
      "        \n",
      "        if nonexist:\n",
      "            continue\n",
      "        else:\n",
      "            with open(output_file_final_test,'a') as outfile:\n",
      "                for i in range(len(attributes)):\n",
      "                    if i != 0:\n",
      "                        outfile.write(',' + str(dictionary_train[i][attributes[i]]))\n",
      "                    else:\n",
      "                        outfile.write(str(dictionary_train[i][attributes[i]]))\n",
      "                outfile.write('\\n')\n",
      "                \n",
      "print delete_count"
     ],
     "language": "python",
     "metadata": {},
     "outputs": []
    },
    {
     "cell_type": "code",
     "collapsed": false,
     "input": [
      "#get submission data rehashed\n",
      "delete_count = 0\n",
      "sub_file = \"Data/sub_new.txt\"\n",
      "output_sub_file = \"Data/sub_rehashed_new.txt\"\n",
      "nonexist_id = {}\n",
      "with open(sub_file,'r') as infile:\n",
      "    for line in infile:\n",
      "        attributes = line.split(',')\n",
      "        \n",
      "        nonexist = False\n",
      "        for i in range(1,len(attributes)):\n",
      "            if attributes[i] not in dictionary_train[i]:\n",
      "                nonexist = True\n",
      "                nonexist_id[attributes[0]] = 1\n",
      "                delete_count += 1\n",
      "                break\n",
      "        \n",
      "        if nonexist:\n",
      "            continue\n",
      "        else:\n",
      "            with open(output_sub_file,'a') as outfile:\n",
      "                for i in range(len(attributes)):\n",
      "                    if i != 0:\n",
      "                        outfile.write(',' + str(dictionary_train[i][attributes[i]]))\n",
      "                    else:\n",
      "                        #outfile.write(str(dictionary_train[i][attributes[i]]))\n",
      "                        outfile.write(str(attributes[i]))\n",
      "                outfile.write('\\n')\n",
      "                \n",
      "print delete_count\n",
      "\n",
      "import pickle\n",
      "#pickle.dump( dictionary_train, open( \"dictionary_new.p\", \"wb\" ) )\n",
      "pickle.dump( nonexist_id, open( \"nonexist_id_new.p\", \"wb\" ) )"
     ],
     "language": "python",
     "metadata": {},
     "outputs": [
      {
       "output_type": "stream",
       "stream": "stdout",
       "text": [
        "118817\n"
       ]
      }
     ],
     "prompt_number": 6
    },
    {
     "cell_type": "code",
     "collapsed": false,
     "input": [
      "#balance data\n",
      "input_train_file = 'Data/train_1234_new_rehashed.txt'\n",
      "output_sub_file = \"Data/train_1234_new_rehashed_balanced.txt\"\n",
      "import random\n",
      "with open(input_train_file,'r') as infile:\n",
      "    for line in infile:\n",
      "        li = list(map(int, line.split(',')))\n",
      "        \n",
      "        if li[0] == 0:\n",
      "            k = random.randint(1,5)\n",
      "            if k > 1:\n",
      "                continue\n",
      "            \n",
      "        with open(output_sub_file,'a') as outfile:\n",
      "            outfile.write(line)"
     ],
     "language": "python",
     "metadata": {},
     "outputs": [],
     "prompt_number": 18
    },
    {
     "cell_type": "code",
     "collapsed": false,
     "input": [
      "#check balance\n",
      "input_train_file = \"Data/train_1234_new_rehashed_balanced.txt\"\n",
      "click = 0\n",
      "non_click = 0\n",
      "with open(input_train_file,'r') as infile:\n",
      "    for line in infile:\n",
      "        li = list(map(int, line.split(',')))\n",
      "        if li[0] == 0:\n",
      "            non_click += 1\n",
      "        else:\n",
      "            click += 1\n",
      "print click, non_click\n",
      "        "
     ],
     "language": "python",
     "metadata": {},
     "outputs": []
    }
   ],
   "metadata": {}
  }
 ]
}