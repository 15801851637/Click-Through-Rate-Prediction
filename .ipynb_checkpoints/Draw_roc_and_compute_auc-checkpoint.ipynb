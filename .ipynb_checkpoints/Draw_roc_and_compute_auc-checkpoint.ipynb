{
 "metadata": {
  "name": "",
  "signature": "sha256:9a1131e61d8d22c933a2e67bfdc3611f380f3963fc9cc4cfde3f2574b68b6503"
 },
 "nbformat": 3,
 "nbformat_minor": 0,
 "worksheets": [
  {
   "cells": [
    {
     "cell_type": "code",
     "collapsed": false,
     "input": [
      "def ROC(label,result):\n",
      "    %matplotlib inline\n",
      "    from sklearn.utils import shuffle\n",
      "    from sklearn.metrics import roc_curve, auc\n",
      "    import pylab as pl\n",
      "    import numpy as py\n",
      "    # Compute ROC curve and area the curve\n",
      "    Y = np.array(label)\n",
      "    fpr, tpr, thresholds = roc_curve(Y, result)\n",
      "    roc_auc = auc(fpr, tpr)\n",
      "    print \"Area under the ROC curve : %f\" % roc_auc\n",
      "\n",
      "    # Plot ROC curve\n",
      "    pl.clf()\n",
      "    pl.plot(fpr, tpr, label='ROC curve (area = %0.2f)' % roc_auc)\n",
      "    pl.plot([0, 1], [0, 1], 'k--')\n",
      "    pl.xlim([0.0, 1.0])\n",
      "    pl.ylim([0.0, 1.0])\n",
      "    pl.xlabel('False Positive Rate')\n",
      "    pl.ylabel('True Positive Rate')\n",
      "    pl.title('Receiver operating characteristic')\n",
      "    pl.legend(loc=\"lower right\")\n",
      "    pl.show()"
     ],
     "language": "python",
     "metadata": {},
     "outputs": [],
     "prompt_number": 4
    }
   ],
   "metadata": {}
  }
 ]
}