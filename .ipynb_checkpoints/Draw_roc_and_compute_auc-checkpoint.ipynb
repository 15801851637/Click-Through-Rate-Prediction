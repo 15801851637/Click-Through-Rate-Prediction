{
 "metadata": {
  "name": "",
  "signature": "sha256:f08aa299d93e30b32183a7a38ac49b42508cc3be9c81acd35f835328f31dbba3"
 },
 "nbformat": 3,
 "nbformat_minor": 0,
 "worksheets": [
  {
   "cells": [
    {
     "cell_type": "code",
     "collapsed": false,
     "input": [
      "import numpy as np\n",
      "import pylab as pl\n",
      "from sklearn import svm, datasets\n",
      "from sklearn.utils import shuffle\n",
      "from sklearn.metrics import roc_curve, auc\n",
      "\n",
      "random_state = np.random.RandomState(0)\n",
      "\n",
      "# Import some data to play with\n",
      "iris = datasets.load_iris()\n",
      "X = iris.data\n",
      "y = iris.target\n",
      "\n",
      "# Make it a binary classification problem by removing the third class\n",
      "X, y = X[y != 2], y[y != 2]\n",
      "n_samples, n_features = X.shape\n",
      "\n",
      "# Add noisy features to make the problem harder\n",
      "X = np.c_[X, random_state.randn(n_samples, 200 * n_features)]\n",
      "\n",
      "# shuffle and split training and test sets\n",
      "X, y = shuffle(X, y, random_state=random_state)\n",
      "half = int(n_samples / 2)\n",
      "X_train, X_test = X[:half], X[half:]\n",
      "y_train, y_test = y[:half], y[half:]\n",
      "\n",
      "# Run classifier\n",
      "classifier = svm.SVC(kernel='linear', probability=True)\n",
      "probas_ = classifier.fit(X_train, y_train).predict_proba(X_test)\n",
      "\n",
      "# Compute ROC curve and area the curve\n",
      "fpr, tpr, thresholds = roc_curve(y_test, probas_[:, 1])\n",
      "roc_auc = auc(fpr, tpr)\n",
      "print \"Area under the ROC curve : %f\" % roc_auc\n",
      "\n",
      "# Plot ROC curve\n",
      "pl.clf()\n",
      "pl.plot(fpr, tpr, label='ROC curve (area = %0.2f)' % roc_auc)\n",
      "pl.plot([0, 1], [0, 1], 'k--')\n",
      "pl.xlim([0.0, 1.0])\n",
      "pl.ylim([0.0, 1.0])\n",
      "pl.xlabel('False Positive Rate')\n",
      "pl.ylabel('True Positive Rate')\n",
      "pl.title('Receiver operating characteristic example')\n",
      "pl.legend(loc=\"lower right\")\n",
      "pl.show()\n",
      " "
     ],
     "language": "python",
     "metadata": {},
     "outputs": []
    },
    {
     "cell_type": "code",
     "collapsed": false,
     "input": [
      "probas_[:, 1]\n"
     ],
     "language": "python",
     "metadata": {},
     "outputs": [
      {
       "metadata": {},
       "output_type": "pyout",
       "prompt_number": 4,
       "text": [
        "array([ 0.56365774,  0.48277739,  0.83092565,  0.66912535,  0.74569749,\n",
        "        0.47340723,  0.28163031,  0.51702549,  0.37113921,  0.71246843,\n",
        "        0.78702108,  0.3826424 ,  0.47294172,  0.15074507,  0.31821067,\n",
        "        0.34808259,  0.51596561,  0.47136005,  0.32275267,  0.44400008,\n",
        "        0.56450167,  0.44273889,  0.64002313,  0.55109193,  0.85460656,\n",
        "        0.58651019,  0.33668708,  0.46112353,  0.64772503,  0.62329637,\n",
        "        0.27088211,  0.55811357,  0.50829409,  0.56754063,  0.57793459,\n",
        "        0.55859498,  0.69172991,  0.3866136 ,  0.41196572,  0.24428323,\n",
        "        0.31561525,  0.34674611,  0.64455966,  0.32351156,  0.41812564,\n",
        "        0.79690744,  0.51140335,  0.4053951 ,  0.31374733,  0.69134299])"
       ]
      }
     ],
     "prompt_number": 4
    }
   ],
   "metadata": {}
  }
 ]
}