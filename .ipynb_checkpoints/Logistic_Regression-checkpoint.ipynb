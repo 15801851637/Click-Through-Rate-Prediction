{
 "metadata": {
  "name": "",
  "signature": "sha256:74902552d0371e20178edf109605abc4a6ca0d254a2cd6a0d35a984c43a72c5a"
 },
 "nbformat": 3,
 "nbformat_minor": 0,
 "worksheets": [
  {
   "cells": [
    {
     "cell_type": "code",
     "collapsed": false,
     "input": [
      "from sklearn.linear_model import LinearRegression as lr\n",
      "import numpy as py\n",
      "\n",
      "'''\n",
      "training:\n",
      "banner_pos: 7\n",
      "site_category: 24\n",
      "app_category: 35\n",
      "device_model: 7291 -- skip due to memory limited\n",
      "device_type: 4\n",
      "'''\n",
      "pos = [0,7,7+24,7+24+35]\n",
      "\n",
      "data = []\n",
      "label = []\n",
      "input_train_file = 'Data/train_1234_rehashed.txt'\n",
      "with open(input_train_file,'r') as infile:\n",
      "    for line in infile:\n",
      "        li = list(map(int, line.split(',')))\n",
      "\n",
      "        data.append([0 for b in range(7+24+35+4)])\n",
      "\n",
      "        for i in range(1,len(li)):\n",
      "            if i == len(li) - 2:\n",
      "                continue\n",
      "            elif i == len(li) - 1:\n",
      "                data[len(data) - 1][pos[i-2] + li[i]] = 1\n",
      "            else:\n",
      "                data[len(data) - 1][pos[i-1] + li[i]] = 1\n",
      "\n",
      "        label.append(li[0])\n",
      "\n"
     ],
     "language": "python",
     "metadata": {},
     "outputs": []
    },
    {
     "cell_type": "code",
     "collapsed": false,
     "input": [
      "data = np.array(data)\n",
      "label = np.array(label)\n",
      "#lr.fit(, Y)"
     ],
     "language": "python",
     "metadata": {},
     "outputs": [
      {
       "metadata": {},
       "output_type": "pyout",
       "prompt_number": 32,
       "text": [
        "5"
       ]
      }
     ],
     "prompt_number": 32
    }
   ],
   "metadata": {}
  }
 ]
}