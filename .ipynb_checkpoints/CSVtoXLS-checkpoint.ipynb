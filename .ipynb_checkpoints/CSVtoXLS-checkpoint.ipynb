{
 "metadata": {
  "name": "",
  "signature": "sha256:4906411b83d86d5a614fa8188180b784a091e2101a48d841132ad93b2d45f2ce"
 },
 "nbformat": 3,
 "nbformat_minor": 0,
 "worksheets": [
  {
   "cells": [
    {
     "cell_type": "code",
     "collapsed": false,
     "input": [
      "import os\n",
      "import glob\n",
      "import csv\n",
      "from xlsxwriter.workbook import Workbook\n",
      "\n",
      "\n",
      "for csvfile in glob.glob(os.path.join('.', '*.csv')):\n",
      "    workbook = Workbook(csvfile + '.xlsx')\n",
      "    worksheet = workbook.add_worksheet()\n",
      "    with open(csvfile, 'rb') as f:\n",
      "        reader = csv.reader(f)\n",
      "        for r, row in enumerate(reader):\n",
      "            for c, col in enumerate(row):\n",
      "                worksheet.write(r, c, col)\n",
      "    workbook.close()"
     ],
     "language": "python",
     "metadata": {},
     "outputs": []
    }
   ],
   "metadata": {}
  }
 ]
}