{
 "metadata": {
  "name": "",
  "signature": "sha256:60af89311646a07642c830040be9dd40720420b994b55696d4a65c0c4d88ba6c"
 },
 "nbformat": 3,
 "nbformat_minor": 0,
 "worksheets": [
  {
   "cells": [
    {
     "cell_type": "code",
     "collapsed": false,
     "input": [
      "import numpy as py\n",
      "from sklearn import tree\n",
      "from sklearn.naive_bayes import GaussianNB\n",
      "\n",
      "# read in the data\n",
      "file = open('Data/train_3days_rehashed.txt')\n",
      "\n",
      "data = []\n",
      "label = []\n",
      "\n",
      "# prepare the training data\n",
      "for line in file:\n",
      "    li = list(map(int, line.split(',')))\n",
      "    label.append(li[0])\n",
      "    data.append(li[1:6])\n",
      "\n",
      "# train decision tree\n",
      "# clf = tree.DecisionTreeClassifier()\n",
      "# clf.fit(data, label)\n",
      "\n",
      "# train naive bayes\n",
      "# gnb = GaussianNB()\n",
      "# gnb.fit(data, label)\n",
      "\n",
      "data = np.array(data)\n",
      "\n",
      "subdata = data[:, 2]\n",
      "subdata = subdata.tolist()\n",
      "(count, clickCount) = featureExtract(subdata, label)"
     ],
     "language": "python",
     "metadata": {},
     "outputs": [],
     "prompt_number": 33
    },
    {
     "cell_type": "code",
     "collapsed": false,
     "input": [
      "import numpy as np\n",
      "a = [[1, 2], [2, 3], [4, 5]]\n",
      "a = np.array(a)\n",
      "print a[:, 1]\n",
      "a = a[:, 1];\n",
      "a = np.transpose(a);\n",
      "print a\n",
      "print a.tolist()"
     ],
     "language": "python",
     "metadata": {},
     "outputs": [
      {
       "output_type": "stream",
       "stream": "stdout",
       "text": [
        "[2 3 5]\n",
        "[2 3 5]\n",
        "[2, 3, 5]\n"
       ]
      }
     ],
     "prompt_number": 26
    },
    {
     "cell_type": "code",
     "collapsed": false,
     "input": [
      "test_data = []\n",
      "test_label = []\n",
      "\n",
      "file = open('test_4th_rehashed.txt')\n",
      "\n",
      "for line in file:\n",
      "    li = list(map(int, line.split(',')))\n",
      "    test_label.append(li[0])\n",
      "    test_data.append(li[1:6])\n",
      "    \n",
      "result = clf.predict(test_data)\n",
      "# result = gnb.predict(test_data)"
     ],
     "language": "python",
     "metadata": {},
     "outputs": [],
     "prompt_number": 8
    },
    {
     "cell_type": "code",
     "collapsed": false,
     "input": [
      "cnt = 0\n",
      "for i in range(0, len(test_label)):\n",
      "    if result[i] != test_label[i]:\n",
      "        cnt = cnt + 1\n",
      "\n",
      "print float(cnt)/float(len(test_label))"
     ],
     "language": "python",
     "metadata": {},
     "outputs": [
      {
       "output_type": "stream",
       "stream": "stdout",
       "text": [
        "0.17509819103\n"
       ]
      }
     ],
     "prompt_number": 9
    },
    {
     "cell_type": "code",
     "collapsed": false,
     "input": [
      "def featureExtract(data, label):\n",
      "    clickCount = {}\n",
      "    count = {}\n",
      "    for i in range(0, len(data)):\n",
      "        if data[i] not in count:\n",
      "            count[data[i]] = 1\n",
      "            clickCount[data[i]] = 0\n",
      "        else:\n",
      "            count[data[i]] = count[data[i]] + 1\n",
      "        \n",
      "        if label[i] == 1:\n",
      "            clickCount[data[i]] = clickCount[data[i]] + 1\n",
      "    \n",
      "    return (count, clickCount)"
     ],
     "language": "python",
     "metadata": {},
     "outputs": [],
     "prompt_number": 19
    },
    {
     "cell_type": "code",
     "collapsed": false,
     "input": [
      "clickCount"
     ],
     "language": "python",
     "metadata": {},
     "outputs": [
      {
       "metadata": {},
       "output_type": "pyout",
       "prompt_number": 35,
       "text": [
        "{0: 8580436,\n",
        " 1: 3088678,\n",
        " 2: 858531,\n",
        " 3: 311196,\n",
        " 4: 337041,\n",
        " 5: 15529,\n",
        " 6: 8526,\n",
        " 7: 48644,\n",
        " 8: 47512,\n",
        " 9: 7611,\n",
        " 10: 7334,\n",
        " 11: 3858,\n",
        " 12: 2382,\n",
        " 13: 7794,\n",
        " 14: 1139,\n",
        " 15: 83,\n",
        " 16: 147,\n",
        " 17: 2522,\n",
        " 18: 522,\n",
        " 19: 720,\n",
        " 20: 104,\n",
        " 21: 316,\n",
        " 22: 199,\n",
        " 23: 7,\n",
        " 24: 2,\n",
        " 25: 9,\n",
        " 26: 19,\n",
        " 27: 1,\n",
        " 28: 2,\n",
        " 29: 1,\n",
        " 30: 4,\n",
        " 31: 1,\n",
        " 32: 1,\n",
        " 33: 1,\n",
        " 34: 1}"
       ]
      }
     ],
     "prompt_number": 35
    },
    {
     "cell_type": "code",
     "collapsed": false,
     "input": [],
     "language": "python",
     "metadata": {},
     "outputs": []
    }
   ],
   "metadata": {}
  }
 ]
}