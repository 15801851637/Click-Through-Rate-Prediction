{
 "metadata": {
  "name": "",
  "signature": "sha256:e7a49bb494960c1b5b713e9c24dd550e4d6304011800905e686fec478125fc46"
 },
 "nbformat": 3,
 "nbformat_minor": 0,
 "worksheets": [
  {
   "cells": [
    {
     "cell_type": "code",
     "collapsed": false,
     "input": [
      "import numpy as np\n",
      "from sklearn import tree\n",
      "from sklearn import svm\n",
      "from sklearn.naive_bayes import GaussianNB\n",
      "\n",
      "# read in the data\n",
      "file = open('Data/train1234_validation5_test6_new/train_1234_new_rehashed.txt')\n",
      "\n",
      "data = []\n",
      "label = []\n",
      "\n",
      "# prepare the training data\n",
      "for line in file:\n",
      "    li = list(map(int, line.split(',')))\n",
      "    label.append(li[0])\n",
      "    data.append(li[1:11])\n",
      "\n",
      "# train decision tree\n",
      "# clf = tree.DecisionTreeClassifier()\n",
      "# clf.fit(data, label)\n",
      "\n",
      "# train naive bayes\n",
      "# gnb = GaussianNB()\n",
      "# gnb.fit(data, label)\n",
      "\n",
      "# result1 = clf.predict_proba(data)\n",
      "# result1 = result1[:, 1]\n",
      "# result2 = gnb.predict_proba(data)\n",
      "# result2 = result2[:, 2]\n",
      "\n",
      "# newData = np.concatenate((result1, result2), axis = 1)\n",
      "\n",
      "# sv = svm.SVM()\n",
      "# sv.fit(newData, label)"
     ],
     "language": "python",
     "metadata": {},
     "outputs": [
      {
       "ename": "KeyboardInterrupt",
       "evalue": "",
       "output_type": "pyerr",
       "traceback": [
        "\u001b[0;31m---------------------------------------------------------------------------\u001b[0m\n\u001b[0;31mKeyboardInterrupt\u001b[0m                         Traceback (most recent call last)",
        "\u001b[0;32m<ipython-input-1-cab3b9fc3d8d>\u001b[0m in \u001b[0;36m<module>\u001b[0;34m()\u001b[0m\n\u001b[1;32m     13\u001b[0m \u001b[0;32mfor\u001b[0m \u001b[0mline\u001b[0m \u001b[0;32min\u001b[0m \u001b[0mfile\u001b[0m\u001b[0;34m:\u001b[0m\u001b[0;34m\u001b[0m\u001b[0m\n\u001b[1;32m     14\u001b[0m     \u001b[0mli\u001b[0m \u001b[0;34m=\u001b[0m \u001b[0mlist\u001b[0m\u001b[0;34m(\u001b[0m\u001b[0mmap\u001b[0m\u001b[0;34m(\u001b[0m\u001b[0mint\u001b[0m\u001b[0;34m,\u001b[0m \u001b[0mline\u001b[0m\u001b[0;34m.\u001b[0m\u001b[0msplit\u001b[0m\u001b[0;34m(\u001b[0m\u001b[0;34m','\u001b[0m\u001b[0;34m)\u001b[0m\u001b[0;34m)\u001b[0m\u001b[0;34m)\u001b[0m\u001b[0;34m\u001b[0m\u001b[0m\n\u001b[0;32m---> 15\u001b[0;31m     \u001b[0mlabel\u001b[0m\u001b[0;34m.\u001b[0m\u001b[0mappend\u001b[0m\u001b[0;34m(\u001b[0m\u001b[0mli\u001b[0m\u001b[0;34m[\u001b[0m\u001b[0;36m0\u001b[0m\u001b[0;34m]\u001b[0m\u001b[0;34m)\u001b[0m\u001b[0;34m\u001b[0m\u001b[0m\n\u001b[0m\u001b[1;32m     16\u001b[0m     \u001b[0mdata\u001b[0m\u001b[0;34m.\u001b[0m\u001b[0mappend\u001b[0m\u001b[0;34m(\u001b[0m\u001b[0mli\u001b[0m\u001b[0;34m[\u001b[0m\u001b[0;36m1\u001b[0m\u001b[0;34m:\u001b[0m\u001b[0;36m11\u001b[0m\u001b[0;34m]\u001b[0m\u001b[0;34m)\u001b[0m\u001b[0;34m\u001b[0m\u001b[0m\n\u001b[1;32m     17\u001b[0m \u001b[0;34m\u001b[0m\u001b[0m\n",
        "\u001b[0;31mKeyboardInterrupt\u001b[0m: "
       ]
      }
     ],
     "prompt_number": 1
    },
    {
     "cell_type": "code",
     "collapsed": false,
     "input": [
      "cnt = 0\n",
      "for i in range(0, len(test_label)):\n",
      "    if result[i] != test_label[i]:\n",
      "        cnt = cnt + 1\n",
      "\n",
      "print float(cnt)/float(len(test_label))"
     ],
     "language": "python",
     "metadata": {},
     "outputs": [
      {
       "output_type": "stream",
       "stream": "stdout",
       "text": [
        "0.17509819103\n"
       ]
      }
     ],
     "prompt_number": 9
    },
    {
     "cell_type": "code",
     "collapsed": false,
     "input": [
      "def ROC(label,result):\n",
      "    %matplotlib inline\n",
      "    from sklearn.utils import shuffle\n",
      "    from sklearn.metrics import roc_curve, auc\n",
      "    import pylab as pl\n",
      "    import numpy as py\n",
      "    # Compute ROC curve and area the curve\n",
      "    Y = np.array(label)\n",
      "    fpr, tpr, thresholds = roc_curve(Y, result)\n",
      "    roc_auc = auc(fpr, tpr)\n",
      "    print \"Area under the ROC curve : %f\" % roc_auc\n",
      "\n",
      "    # Plot ROC curve\n",
      "    pl.clf()\n",
      "    pl.plot(fpr, tpr, label='ROC curve (area = %0.2f)' % roc_auc)\n",
      "    pl.plot([0, 1], [0, 1], 'k--')\n",
      "    pl.xlim([0.0, 1.0])\n",
      "    pl.ylim([0.0, 1.0])\n",
      "    pl.xlabel('False Positive Rate')\n",
      "    pl.ylabel('True Positive Rate')\n",
      "    pl.title('Receiver operating characteristic')\n",
      "    pl.legend(loc=\"lower right\")\n",
      "    pl.show()"
     ],
     "language": "python",
     "metadata": {},
     "outputs": [],
     "prompt_number": 8
    },
    {
     "cell_type": "code",
     "collapsed": false,
     "input": [
      "import numpy as np\n",
      "def featureExtract(data, label):\n",
      "    clickCount = {}\n",
      "    count = {}\n",
      "    for i in range(0, len(data)):\n",
      "        if data[i] not in count:\n",
      "            count[data[i]] = 1\n",
      "            clickCount[data[i]] = 0\n",
      "        else:\n",
      "            count[data[i]] = count[data[i]] + 1\n",
      "        \n",
      "        clickCount[data[i]] = clickCount[data[i]] + label[i]\n",
      "    \n",
      "    return (count, clickCount)\n",
      "\n",
      "def featureTransfrom(data, start, label):\n",
      "    nFeature = np.shape(data)[1]\n",
      "    tData = []\n",
      "    tData.append(data[:, 0])\n",
      "#     tData = data[:, 0]\n",
      "#     tData = np.concatenate((tData, data[:,1]), axis = 1)\n",
      "    for i in range(start, nFeature):\n",
      "        subData = data[:, i]\n",
      "        subData = subData.tolist()\n",
      "        (count, clickCount) = featureExtract(subData, label)\n",
      "        rate = {}\n",
      "        for (k, v) in count.items():\n",
      "            if clickCount[k] == 0:\n",
      "                rate[k] = 0\n",
      "            else:\n",
      "                rate[k] = float(clickCount[k]) / float(v)\n",
      "        \n",
      "        li = []\n",
      "        for j in range(0, np.shape(subData)[0]):\n",
      "            li.append(rate[subData[j]])\n",
      "        li = np.array(li)\n",
      "        li = np.transpose(li)\n",
      "        tData.append(li)\n",
      "    \n",
      "    tData = np.array(tData)\n",
      "    tData = np.transpose(tData)\n",
      "    return tData\n",
      "\n",
      "def featureExtraTest(data, start):\n",
      "    tData = []\n",
      "    tData.append(data[:, 0])\n",
      "    nFeature = np.shape(data)[1]\n",
      "    nData = np.shape(data)[0]\n",
      "    for i in range(start, nFeature):\n",
      "        count = {}\n",
      "        subData = data[:, i]\n",
      "        subData = subData.tolist()\n",
      "        for j in range(0, nData):\n",
      "            if subData[j] not in count:\n",
      "                count[subData[j]] = 1\n",
      "            else:\n",
      "                count[subData[j]] = count[subData[j]] + 1\n",
      "        rate = {}\n",
      "        for (k, v) in count.items():\n",
      "            rate[k] = float(v) / float(nData)\n",
      "            \n",
      "        li = []\n",
      "        for j in range(0, nData):\n",
      "            li.append(rate[subData[j]])\n",
      "        tData.append(li)\n",
      "    \n",
      "    tData = np.array(tData)\n",
      "    tData = np.transpose(tData)\n",
      "    return tData"
     ],
     "language": "python",
     "metadata": {},
     "outputs": [],
     "prompt_number": 3
    },
    {
     "cell_type": "code",
     "collapsed": false,
     "input": [
      "tData = featureTransfrom(np.array(data), 1, np.array(label))"
     ],
     "language": "python",
     "metadata": {},
     "outputs": [],
     "prompt_number": 41
    },
    {
     "cell_type": "code",
     "collapsed": false,
     "input": [
      "from sklearn.linear_model import LinearRegression as lr\n",
      "\n",
      "lrInstance = lr()\n",
      "lrInstance.fit(tData, label)"
     ],
     "language": "python",
     "metadata": {},
     "outputs": [
      {
       "metadata": {},
       "output_type": "pyout",
       "prompt_number": 50,
       "text": [
        "LinearRegression(copy_X=True, fit_intercept=True, normalize=False)"
       ]
      }
     ],
     "prompt_number": 50
    },
    {
     "cell_type": "code",
     "collapsed": false,
     "input": [
      "import numpy as np\n",
      "from sklearn.linear_model import LinearRegression as Lr\n",
      "\n",
      "file = open('Data/train_1234_new_rehashed_balanced.txt')\n",
      "\n",
      "data = []\n",
      "label = []\n",
      "\n",
      "# prepare the training data\n",
      "for line in file:\n",
      "    li = list(map(int, line.split(',')))\n",
      "    label.append(li[0])\n",
      "    data.append(li[1:11])\n",
      "    \n",
      "tData = featureTransfrom(np.array(data), 1, np.array(label))\n",
      "\n",
      "lrInstance = Lr()\n",
      "lrInstance.fit(tData, label)"
     ],
     "language": "python",
     "metadata": {},
     "outputs": [
      {
       "metadata": {},
       "output_type": "pyout",
       "prompt_number": 4,
       "text": [
        "LinearRegression(copy_X=True, fit_intercept=True, normalize=False)"
       ]
      }
     ],
     "prompt_number": 4
    },
    {
     "cell_type": "code",
     "collapsed": false,
     "input": [
      "import numpy as np\n",
      "from sklearn.linear_model import LinearRegression as Lr\n",
      "\n",
      "file = open('Data/train1234_validation5_test6_new/test_6_new_rehashed.txt')\n",
      "\n",
      "test_label = []\n",
      "test_data = []\n",
      "\n",
      "for line in file:\n",
      "    li = list(map(int, line.split(',')))\n",
      "    test_label.append(li[0])\n",
      "    test_data.append(li[1:11])\n",
      "    \n",
      "tData = featureExtraTest(np.array(test_data), 1)\n",
      "\n",
      "for T in range(0, 30):\n",
      "    tResult = lrInstance.predict(tData)\n",
      "    tData = featureTransfrom(np.array(test_data), 1, tResult)\n",
      "\n",
      "\n"
     ],
     "language": "python",
     "metadata": {},
     "outputs": [],
     "prompt_number": 38
    },
    {
     "cell_type": "code",
     "collapsed": false,
     "input": [
      "ROC(test_label, tResult)"
     ],
     "language": "python",
     "metadata": {},
     "outputs": [
      {
       "output_type": "stream",
       "stream": "stdout",
       "text": [
        "Area under the ROC curve : 0.622050\n"
       ]
      },
      {
       "metadata": {},
       "output_type": "display_data",
       "png": "[encoded data removed]",
       "text": [
        "<matplotlib.figure.Figure at 0x121e35f10>"
       ]
      }
     ],
     "prompt_number": 39
    },
    {
     "cell_type": "code",
     "collapsed": false,
     "input": [
      "for T in range(0, 100):\n",
      "    tResult = lrInstance.predict(tData)\n",
      "    tData = featureTransfrom(np.array(test_data), 1, tResult)\n"
     ],
     "language": "python",
     "metadata": {},
     "outputs": [],
     "prompt_number": 36
    },
    {
     "cell_type": "code",
     "collapsed": false,
     "input": [],
     "language": "python",
     "metadata": {},
     "outputs": [],
     "prompt_number": 34
    },
    {
     "cell_type": "code",
     "collapsed": false,
     "input": [],
     "language": "python",
     "metadata": {},
     "outputs": []
    }
   ],
   "metadata": {}
  }
 ]
}