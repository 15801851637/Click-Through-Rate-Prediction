{
 "metadata": {
  "name": "",
  "signature": "sha256:4812dd9ced03afe316067309b120bb99be8c322166248525c3b2bbf29ff097f5"
 },
 "nbformat": 3,
 "nbformat_minor": 0,
 "worksheets": [
  {
   "cells": [
    {
     "cell_type": "code",
     "collapsed": false,
     "input": [
      "import os\n",
      "import glob\n",
      "import csv\n",
      "from xlsxwriter.workbook import Workbook\n",
      "\n",
      "\n",
      "for csvfile in glob.glob(os.path.join('.', '*.csv')):\n",
      "    workbook = Workbook(csvfile + '.xlsx')\n",
      "    worksheet = workbook.add_worksheet()\n",
      "    with open(csvfile, 'rb') as f:\n",
      "        reader = csv.reader(f)\n",
      "        for r, row in enumerate(reader):\n",
      "            for c, col in enumerate(row):\n",
      "                worksheet.write(r, c, col)\n",
      "    workbook.close()"
     ],
     "language": "python",
     "metadata": {},
     "outputs": [],
     "prompt_number": 1
    }
   ],
   "metadata": {}
  }
 ]
}