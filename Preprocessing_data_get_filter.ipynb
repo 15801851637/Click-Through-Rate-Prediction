{
 "metadata": {
  "name": "",
  "signature": "sha256:0ceb2633c62cfb476b63817b34ac79a1b4a15c72b75641aa6121686e836676e9"
 },
 "nbformat": 3,
 "nbformat_minor": 0,
 "worksheets": [
  {
   "cells": [
    {
     "cell_type": "code",
     "collapsed": false,
     "input": [
      "#!/usr/bin/python\n",
      "\n",
      "### for training set at the first 7 days ##########\n",
      "\n",
      "'''\n",
      "targets are\n",
      "No. attribute description: index\n",
      "1. click: 1\n",
      "2. banner_pos: 4\n",
      "3. site_category: 7\n",
      "4. app_category: 10\n",
      "5. device_model: 13\n",
      "6. device_type: 14\n",
      "\n",
      "Filter time range: hour : 2\n",
      "training set:\n",
      "14102100 - 14102400\n",
      "testing set:\n",
      "14102400 - 14102500\n",
      "\n",
      "'''\n",
      "\n",
      "input_file = \"Data/train\"\n",
      "train_file = \"Data/train_3days.txt\"\n",
      "test_file = \"Data/test_4th.txt\"\n",
      "\n",
      "count = 0\n",
      "train_count = 0\n",
      "test_count = 0\n",
      "\n",
      "target_index = [1,4,7,10,13,14]\n",
      "\n",
      "with open(input_file,'r') as infile:\n",
      "    for line in infile:\n",
      "        count += 1\n",
      "        \n",
      "        attributes = line.split(',')        \n",
      "        hour = attributes[2]\n",
      "        if hour >= '14102500':\n",
      "            continue\n",
      "\n",
      "        elif hour < '14102400':\n",
      "            with open(train_file,'a') as outfile:\n",
      "                for i in range(len(target_index)):\n",
      "                    if i != 0:\n",
      "                        outfile.write(',' + attributes[target_index[i]])\n",
      "                    else:\n",
      "                        outfile.write(attributes[target_index[i]])\n",
      "\n",
      "                outfile.write('\\n')\n",
      "                train_count += 1\n",
      "                \n",
      "        else:\n",
      "            with open(test_file,'a') as outfile:\n",
      "                for i in range(len(target_index)):\n",
      "                    if i != 0:\n",
      "                        outfile.write(',' + attributes[target_index[i]])\n",
      "                    else:\n",
      "                        outfile.write(attributes[target_index[i]])\n",
      "\n",
      "                outfile.write('\\n')\n",
      "                test_count += 1\n",
      "            \n",
      "print count,train_count,test_count\n",
      "\n",
      "\n",
      "###################################################################"
     ],
     "language": "python",
     "metadata": {},
     "outputs": [
      {
       "output_type": "stream",
       "stream": "stdout",
       "text": [
        "40428968 13330873 3335302\n"
       ]
      }
     ],
     "prompt_number": 1
    }
   ],
   "metadata": {}
  }
 ]
}