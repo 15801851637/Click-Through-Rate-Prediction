{
 "metadata": {
  "name": "",
  "signature": "sha256:4fcb05b7ff0f0be1c64fdfb2538e64267b28a589d80a8e234d44eff4274a4291"
 },
 "nbformat": 3,
 "nbformat_minor": 0,
 "worksheets": [
  {
   "cells": [
    {
     "cell_type": "code",
     "collapsed": false,
     "input": [
      "#!/usr/bin/python\n",
      "\n",
      "### for training set at the first 7 days ##########\n",
      "\n",
      "'''\n",
      "targets are\n",
      "No. attribute description: index\n",
      "1. id: 0\n",
      "2. click: 1\n",
      "3. banner_pos: 4\n",
      "4. site_category: 7\n",
      "5. app_category: 10\n",
      "6. device_model: 13\n",
      "7. device_type: 14\n",
      "\n",
      "Filter time range: hour : 2\n",
      "training set:\n",
      "14102100 - 14102700 -> hour smaller than 14102700\n",
      "testing set:\n",
      "14102700 - 14102800\n",
      "\n",
      "'''\n",
      "\n",
      "input_file = \"Data/train\"\n",
      "train_file = \"Data/train_7days.txt\"\n",
      "test_file = \"Data/test_7th.txt\"\n",
      "\n",
      "count = 0\n",
      "train_count = 0\n",
      "test_count = 0\n",
      "\n",
      "target_index = [0,1,4,7,10,13,14]\n",
      "\n",
      "with open(input_file,'r') as infile:\n",
      "    for line in infile:\n",
      "        count += 1\n",
      "        \n",
      "        attributes = line.split(',')        \n",
      "        hour = attributes[2]\n",
      "        if hour >= '14102800':\n",
      "            continue\n",
      "\n",
      "        elif hour < '14102700':\n",
      "            with open(train_file,'a') as outfile:\n",
      "                for i in range(len(target_index)):\n",
      "                    if i != 0:\n",
      "                        outfile.write(',' + attributes[target_index[i]])\n",
      "                    else:\n",
      "                        outfile.write(attributes[target_index[i]])\n",
      "\n",
      "                outfile.write('\\n')\n",
      "                train_count += 1\n",
      "                \n",
      "        else:\n",
      "            with open(test_file,'a') as outfile:\n",
      "                for i in range(len(target_index)):\n",
      "                    if i != 0:\n",
      "                        outfile.write(',' + attributes[target_index[i]])\n",
      "                    else:\n",
      "                        outfile.write(attributes[target_index[i]])\n",
      "\n",
      "                outfile.write('\\n')\n",
      "                train_count += 1\n",
      "            \n",
      "print count,train_count,test_count\n",
      "\n",
      "\n",
      "###################################################################"
     ],
     "language": "python",
     "metadata": {},
     "outputs": [
      {
       "output_type": "stream",
       "stream": "stdout",
       "text": [
        "40428968 27090199 0\n"
       ]
      }
     ],
     "prompt_number": 45
    }
   ],
   "metadata": {}
  }
 ]
}