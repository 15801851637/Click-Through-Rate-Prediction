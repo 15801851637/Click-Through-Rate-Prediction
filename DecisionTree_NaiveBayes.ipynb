{
 "metadata": {
  "name": "",
  "signature": "sha256:7d2215545522579d610847bd255b223d5ca9f331b055f2665c5187320bb420dd"
 },
 "nbformat": 3,
 "nbformat_minor": 0,
 "worksheets": [
  {
   "cells": [
    {
     "cell_type": "code",
     "collapsed": false,
     "input": [
      "import numpy as py\n",
      "from sklearn import tree\n",
      "from sklearn.naive_bayes import GaussianNB\n",
      "\n",
      "# read in the data\n",
      "file = open('train_3days_rehashed.txt')\n",
      "\n",
      "data = []\n",
      "label = []\n",
      "\n",
      "# prepare the training data\n",
      "for line in file:\n",
      "    li = list(map(int, line.split(',')))\n",
      "    label.append(li[0])\n",
      "    data.append(li[1:6])\n",
      "\n",
      "# train decision tree\n",
      "clf = tree.DecisionTreeClassifier()\n",
      "clf.fit(data, label)\n",
      "\n",
      "# train naive bayes\n",
      "# gnb = GaussianNB()\n",
      "# gnb.fit(data, label)"
     ],
     "language": "python",
     "metadata": {},
     "outputs": [
      {
       "metadata": {},
       "output_type": "pyout",
       "prompt_number": 7,
       "text": [
        "DecisionTreeClassifier(compute_importances=None, criterion='gini',\n",
        "            max_depth=None, max_features=None, max_leaf_nodes=None,\n",
        "            min_density=None, min_samples_leaf=1, min_samples_split=2,\n",
        "            random_state=None, splitter='best')"
       ]
      }
     ],
     "prompt_number": 7
    },
    {
     "cell_type": "code",
     "collapsed": false,
     "input": [
      "test_data = []\n",
      "test_label = []\n",
      "\n",
      "file = open('test_4th_rehashed.txt')\n",
      "\n",
      "for line in file:\n",
      "    li = list(map(int, line.split(',')))\n",
      "    test_label.append(li[0])\n",
      "    test_data.append(li[1:6])\n",
      "    \n",
      "result = clf.predict(test_data)\n",
      "# result = gnb.predict(test_data)"
     ],
     "language": "python",
     "metadata": {},
     "outputs": [],
     "prompt_number": 8
    },
    {
     "cell_type": "code",
     "collapsed": false,
     "input": [
      "cnt = 0\n",
      "for i in range(0, len(test_label)):\n",
      "    if result[i] != test_label[i]:\n",
      "        cnt = cnt + 1\n",
      "\n",
      "print float(cnt)/float(len(test_label))"
     ],
     "language": "python",
     "metadata": {},
     "outputs": [
      {
       "output_type": "stream",
       "stream": "stdout",
       "text": [
        "0.17509819103\n"
       ]
      }
     ],
     "prompt_number": 9
    },
    {
     "cell_type": "code",
     "collapsed": false,
     "input": [],
     "language": "python",
     "metadata": {},
     "outputs": []
    }
   ],
   "metadata": {}
  }
 ]
}