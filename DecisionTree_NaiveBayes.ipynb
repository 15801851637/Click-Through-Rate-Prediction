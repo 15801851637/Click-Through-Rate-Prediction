{
 "metadata": {
  "name": "",
  "signature": "sha256:431265318457a92a22a0e1197f96706ab0257ede2f7c21a56a7af8ed6e674656"
 },
 "nbformat": 3,
 "nbformat_minor": 0,
 "worksheets": [
  {
   "cells": [
    {
     "cell_type": "code",
     "collapsed": false,
     "input": [
      "import numpy as np\n",
      "from sklearn import tree\n",
      "from sklearn import svm\n",
      "from sklearn.naive_bayes import GaussianNB\n",
      "\n",
      "# read in the data\n",
      "file = open('Data/train1234_validation5_test6_new/train_1234_new_rehashed.txt')\n",
      "\n",
      "data = []\n",
      "label = []\n",
      "\n",
      "# prepare the training data\n",
      "for line in file:\n",
      "    li = list(map(int, line.split(',')))\n",
      "    label.append(li[0])\n",
      "    data.append(li[1:11])\n",
      "\n",
      "# train decision tree\n",
      "clf = tree.DecisionTreeClassifier()\n",
      "clf.fit(data, label)\n",
      "\n",
      "# train naive bayes\n",
      "# gnb = GaussianNB()\n",
      "# gnb.fit(data, label)\n",
      "\n",
      "# result1 = clf.predict_proba(data)\n",
      "# result1 = result1[:, 1]\n",
      "# result2 = gnb.predict_proba(data)\n",
      "# result2 = result2[:, 2]\n",
      "\n",
      "# newData = np.concatenate((result1, result2), axis = 1)\n",
      "\n",
      "# sv = svm.SVM()\n",
      "# sv.fit(newData, label)"
     ],
     "language": "python",
     "metadata": {},
     "outputs": [
      {
       "metadata": {},
       "output_type": "pyout",
       "prompt_number": 55,
       "text": [
        "DecisionTreeClassifier(compute_importances=None, criterion='gini',\n",
        "            max_depth=None, max_features=None, max_leaf_nodes=None,\n",
        "            min_density=None, min_samples_leaf=1, min_samples_split=2,\n",
        "            random_state=None, splitter='best')"
       ]
      }
     ],
     "prompt_number": 55
    },
    {
     "cell_type": "code",
     "collapsed": false,
     "input": [
      "test_data = []\n",
      "test_label = []\n",
      "\n",
      "file = open('Data/train1234_validation5_test6_new/test_6_new_rehashed.txt')\n",
      "\n",
      "for line in file:\n",
      "    li = list(map(int, line.split(',')))\n",
      "    test_label.append(li[0])\n",
      "    test_data.append(li[1:11])\n",
      "    \n",
      "result1 = clf.predict_proba(test_data)\n",
      "result1 = result1[:,1]\n",
      "result2 = gnb.predict_proba(test_data)\n",
      "result2 = result2[:, 1]\n",
      "\n",
      "newData = np.concatenate((result1, result2), axis = 1)\n"
     ],
     "language": "python",
     "metadata": {},
     "outputs": [],
     "prompt_number": 13
    },
    {
     "cell_type": "code",
     "collapsed": false,
     "input": [
      "cnt = 0\n",
      "for i in range(0, len(test_label)):\n",
      "    if result[i] != test_label[i]:\n",
      "        cnt = cnt + 1\n",
      "\n",
      "print float(cnt)/float(len(test_label))"
     ],
     "language": "python",
     "metadata": {},
     "outputs": [
      {
       "output_type": "stream",
       "stream": "stdout",
       "text": [
        "0.17509819103\n"
       ]
      }
     ],
     "prompt_number": 9
    },
    {
     "cell_type": "code",
     "collapsed": false,
     "input": [
      "def ROC(label,result):\n",
      "    %matplotlib inline\n",
      "    from sklearn.utils import shuffle\n",
      "    from sklearn.metrics import roc_curve, auc\n",
      "    import pylab as pl\n",
      "    import numpy as py\n",
      "    # Compute ROC curve and area the curve\n",
      "    Y = np.array(label)\n",
      "    fpr, tpr, thresholds = roc_curve(Y, result)\n",
      "    roc_auc = auc(fpr, tpr)\n",
      "    print \"Area under the ROC curve : %f\" % roc_auc\n",
      "\n",
      "    # Plot ROC curve\n",
      "    pl.clf()\n",
      "    pl.plot(fpr, tpr, label='ROC curve (area = %0.2f)' % roc_auc)\n",
      "    pl.plot([0, 1], [0, 1], 'k--')\n",
      "    pl.xlim([0.0, 1.0])\n",
      "    pl.ylim([0.0, 1.0])\n",
      "    pl.xlabel('False Positive Rate')\n",
      "    pl.ylabel('True Positive Rate')\n",
      "    pl.title('Receiver operating characteristic')\n",
      "    pl.legend(loc=\"lower right\")\n",
      "    pl.show()"
     ],
     "language": "python",
     "metadata": {},
     "outputs": [],
     "prompt_number": 53
    },
    {
     "cell_type": "code",
     "collapsed": false,
     "input": [
      "import numpy as np\n",
      "def featureExtract(data, label):\n",
      "    clickCount = {}\n",
      "    count = {}\n",
      "    for i in range(0, len(data)):\n",
      "        if data[i] not in count:\n",
      "            count[data[i]] = 1\n",
      "            clickCount[data[i]] = 0\n",
      "        else:\n",
      "            count[data[i]] = count[data[i]] + 1\n",
      "        \n",
      "        if label[i] == 1:\n",
      "            clickCount[data[i]] = clickCount[data[i]] + 1\n",
      "    \n",
      "    return (count, clickCount)\n",
      "\n",
      "def featureTransfrom(data, start, label):\n",
      "    nFeature = np.shape(data)[1]\n",
      "    tData = []\n",
      "    tData.append(data[:, 0])\n",
      "#     tData = data[:, 0]\n",
      "#     tData = np.concatenate((tData, data[:,1]), axis = 1)\n",
      "    for i in range(start, nFeature):\n",
      "        subData = data[:, i]\n",
      "        subData = subData.tolist()\n",
      "        (count, clickCount) = featureExtract(subData, label)\n",
      "        rate = {}\n",
      "        for (k, v) in count.items():\n",
      "            if clickCount[k] == 0:\n",
      "                rate[k] = 0\n",
      "            else:\n",
      "                rate[k] = float(clickCount[k]) / float(v)\n",
      "        \n",
      "        li = []\n",
      "        for j in range(0, np.shape(subData)[0]):\n",
      "            li.append(rate[subData[j]])\n",
      "        li = np.array(li)\n",
      "        li = np.transpose(li)\n",
      "        tData.append(li)\n",
      "    \n",
      "    tData = np.array(tData)\n",
      "    tData = np.transpose(tData)\n",
      "    return tData\n",
      "            "
     ],
     "language": "python",
     "metadata": {},
     "outputs": [],
     "prompt_number": 40
    },
    {
     "cell_type": "code",
     "collapsed": false,
     "input": [
      "nData = np.array(data)\n",
      "nLabel = np.array(label)\n",
      "tData = featureTransfrom(nData, 1, nLabel)"
     ],
     "language": "python",
     "metadata": {},
     "outputs": [],
     "prompt_number": 41
    },
    {
     "cell_type": "code",
     "collapsed": false,
     "input": [
      "from sklearn.linear_model import LinearRegression as lr\n",
      "\n",
      "lrInstance = lr()\n",
      "lrInstance.fit(tData, label)"
     ],
     "language": "python",
     "metadata": {},
     "outputs": [
      {
       "metadata": {},
       "output_type": "pyout",
       "prompt_number": 50,
       "text": [
        "LinearRegression(copy_X=True, fit_intercept=True, normalize=False)"
       ]
      }
     ],
     "prompt_number": 50
    },
    {
     "cell_type": "code",
     "collapsed": false,
     "input": [],
     "language": "python",
     "metadata": {},
     "outputs": []
    }
   ],
   "metadata": {}
  }
 ]
}