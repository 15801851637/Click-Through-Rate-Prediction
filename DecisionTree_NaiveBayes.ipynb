{
 "metadata": {
  "name": "",
  "signature": "sha256:7ec3650a133a0e58407012ea850c5129af6704fddd54740698a50fb4fd899236"
 },
 "nbformat": 3,
 "nbformat_minor": 0,
 "worksheets": [
  {
   "cells": [
    {
     "cell_type": "code",
     "collapsed": false,
     "input": [
      "import numpy as np\n",
      "from sklearn import tree\n",
      "from sklearn import svm\n",
      "from sklearn.naive_bayes import GaussianNB\n",
      "\n",
      "# read in the data\n",
      "def readInData():\n",
      "    file = open('Data/train_1234_new_rehashed_balanced.txt')\n",
      "\n",
      "    trainData = []\n",
      "    trainLabel = []\n",
      "\n",
      "    # prepare the training data\n",
      "    for line in file:\n",
      "        li = list(map(int, line.split(',')))\n",
      "        trainLabel.append(li[0])\n",
      "        trainData.append(li[1:11])\n",
      "    \n",
      "    file = open('Data/test_6_new_rehashed.txt')\n",
      "    testData = []\n",
      "    testLabel = []\n",
      "    \n",
      "    for line in file:\n",
      "        li = list(map(int, line.split(',')))\n",
      "        testLabel.append(li[0])\n",
      "        testData.append(li[1:11])\n",
      "    \n",
      "    return (trainData, trainLabel, testData, testLabel)\n",
      "\n",
      "\n",
      "(trainData, trainLabel, testData, testLabel) = readInData()\n",
      "\n",
      "# train decision tree\n",
      "clf = tree.DecisionTreeClassifier(min_samples_split = 500, min_samples_leaf = 10)\n",
      "clf.fit(trainData, trainLabel)\n",
      "result = clf.predict_proba(testData)\n",
      "result = result[:, 1:2]\n",
      "\n",
      "ROC(testLabel, result)\n",
      "\n",
      "labels = clf.predict(testData)\n",
      "cnt = 0\n",
      "for i in range(0, len(testLabel)):\n",
      "    if labels[i] != testLabel[i]:\n",
      "        cnt = cnt + 1\n",
      "\n",
      "print float(cnt)/float(len(testLabel))"
     ],
     "language": "python",
     "metadata": {},
     "outputs": []
    },
    {
     "cell_type": "code",
     "collapsed": false,
     "input": [
      "from sklearn.naive_bayes import MultinomialNB\n",
      "# train naive bayes\n",
      "clfNB = GaussianNB()\n",
      "# clfNB = MultinomialNB()\n",
      "clfNB.fit(trainData, trainLabel)\n",
      "result = clfNB.predict_proba(testData)\n",
      "result = result[:, 1:2]\n",
      "\n",
      "ROC(testLabel, result)\n",
      "\n",
      "labels = clfNB.predict(testData)\n",
      "cnt = 0\n",
      "for i in range(0, len(testLabel)):\n",
      "    if labels[i] != testLabel[i]:\n",
      "        cnt = cnt + 1\n",
      "\n",
      "print float(cnt)/float(len(testLabel))\n",
      "\n"
     ],
     "language": "python",
     "metadata": {},
     "outputs": [
      {
       "output_type": "stream",
       "stream": "stdout",
       "text": [
        "Area under the ROC curve : 0.604872\n"
       ]
      },
      {
       "output_type": "stream",
       "stream": "stderr",
       "text": [
        "/Library/Python/2.7/site-packages/numpy-1.9.1-py2.7-macosx-10.9-intel.egg/numpy/core/fromnumeric.py:2499: VisibleDeprecationWarning: `rank` is deprecated; use the `ndim` attribute or function instead. To find the rank of a matrix see `numpy.linalg.matrix_rank`.\n",
        "  VisibleDeprecationWarning)\n"
       ]
      },
      {
       "metadata": {},
       "output_type": "display_data",
       "png": "[encoded data removed]",
       "text": [
        "<matplotlib.figure.Figure at 0x106b2b1d0>"
       ]
      },
      {
       "output_type": "stream",
       "stream": "stdout",
       "text": [
        "0.478554754521\n"
       ]
      }
     ],
     "prompt_number": 19
    },
    {
     "cell_type": "code",
     "collapsed": false,
     "input": [
      "from sklearn.ensemble import RandomForestClassifier\n",
      "# train random forest\n",
      "clfRF = RandomForestClassifier(n_estimators = 20, min_samples_split = 500, min_samples_leaf = 10, n_jobs = 2)\n",
      "clfRF.fit(trainData, trainLabel)\n",
      "result = clfRF.predict_proba(testData)\n",
      "result = result[:, 1:2]\n",
      "\n",
      "ROC(testLabel, result)\n",
      "\n",
      "labels = clfRF.predict(tesetData)\n",
      "cnt = 0\n",
      "for i in range(0, len(testLabel)):\n",
      "    if labels[i] != testLabel[i]:\n",
      "        cnt = cnt + 1\n",
      "\n",
      "print float(cnt)/float(len(testLabel))"
     ],
     "language": "python",
     "metadata": {},
     "outputs": []
    },
    {
     "cell_type": "code",
     "collapsed": false,
     "input": [
      "def ROC(label,result):\n",
      "    %matplotlib inline\n",
      "    from sklearn.utils import shuffle\n",
      "    from sklearn.metrics import roc_curve, auc\n",
      "    import pylab as pl\n",
      "    import numpy as py\n",
      "    # Compute ROC curve and area the curve\n",
      "    Y = np.array(label)\n",
      "    fpr, tpr, thresholds = roc_curve(Y, result)\n",
      "    roc_auc = auc(fpr, tpr)\n",
      "    print \"Area under the ROC curve : %f\" % roc_auc\n",
      "\n",
      "    # Plot ROC curve\n",
      "    pl.clf()\n",
      "    pl.plot(fpr, tpr, label='ROC curve (area = %0.2f)' % roc_auc)\n",
      "    pl.plot([0, 1], [0, 1], 'k--')\n",
      "    pl.xlim([0.0, 1.0])\n",
      "    pl.ylim([0.0, 1.0])\n",
      "    pl.xlabel('False Positive Rate')\n",
      "    pl.ylabel('True Positive Rate')\n",
      "    pl.title('Receiver operating characteristic')\n",
      "    pl.legend(loc=\"lower right\")\n",
      "    pl.show()"
     ],
     "language": "python",
     "metadata": {},
     "outputs": [],
     "prompt_number": 1
    },
    {
     "cell_type": "code",
     "collapsed": false,
     "input": [
      "import numpy as np\n",
      "import math\n",
      "def featureExtract(data, label):\n",
      "    clickCount = {}\n",
      "    count = {}\n",
      "    for i in range(0, len(data)):\n",
      "        if data[i] not in count:\n",
      "            count[data[i]] = 1\n",
      "            clickCount[data[i]] = 0\n",
      "        else:\n",
      "            count[data[i]] = count[data[i]] + 1\n",
      "        \n",
      "        clickCount[data[i]] = clickCount[data[i]] + label[i]\n",
      "    \n",
      "    return (count, clickCount)\n",
      "\n",
      "def featureTransfrom(data, start, label):\n",
      "    nFeature = np.shape(data)[1]\n",
      "    tData = []\n",
      "    tData.append(data[:, 0])\n",
      "#     tData = data[:, 0]\n",
      "#     tData = np.concatenate((tData, data[:,1]), axis = 1)\n",
      "    for i in range(start, nFeature):\n",
      "        subData = data[:, i]\n",
      "        subData = subData.tolist()\n",
      "        (count, clickCount) = featureExtract(subData, label)\n",
      "        rate = {}\n",
      "        for (k, v) in count.items():\n",
      "            if clickCount[k] == 0:\n",
      "                rate[k] = 0\n",
      "            else:\n",
      "                rate[k] = float(clickCount[k]) / float(v)\n",
      "        \n",
      "        li = []\n",
      "        for j in range(0, np.shape(subData)[0]):\n",
      "            li.append(rate[subData[j]])\n",
      "        li = np.array(li)\n",
      "        li = np.transpose(li)\n",
      "        tData.append(li)\n",
      "    \n",
      "    tData = np.array(tData)\n",
      "    tData = np.transpose(tData)\n",
      "    return tData\n",
      "\n",
      "def featureExtraTest(data, start):\n",
      "    tData = []\n",
      "    tData.append(data[:, 0])\n",
      "    nFeature = np.shape(data)[1]\n",
      "    nData = np.shape(data)[0]\n",
      "    for i in range(start, nFeature):\n",
      "        count = {}\n",
      "        subData = data[:, i]\n",
      "        subData = subData.tolist()\n",
      "        for j in range(0, nData):\n",
      "            if subData[j] not in count:\n",
      "                count[subData[j]] = 1\n",
      "            else:\n",
      "                count[subData[j]] = count[subData[j]] + 1\n",
      "        rate = {}\n",
      "        for (k, v) in count.items():\n",
      "            rate[k] = float(v) / float(nData)\n",
      "            \n",
      "        li = []\n",
      "        for j in range(0, nData):\n",
      "            li.append(rate[subData[j]])\n",
      "        tData.append(li)\n",
      "    \n",
      "    tData = np.array(tData)\n",
      "    tData = np.transpose(tData)\n",
      "    return tData"
     ],
     "language": "python",
     "metadata": {},
     "outputs": [],
     "prompt_number": 36
    },
    {
     "cell_type": "code",
     "collapsed": false,
     "input": [
      "import numpy as np\n",
      "from sklearn.linear_model import LinearRegression as Lr\n",
      "from sklearn.naive_bayes import GaussianNB\n",
      "\n",
      "(trainData, trainLabel, testData, testLabel) = readInData()\n",
      "    \n",
      "tData = featureTransfrom(np.array(trainData), 1, np.array(trainLabel))\n",
      "\n",
      "gnb = GaussianNB()\n",
      "gnb.fit(tData, trainLabel)\n",
      "\n",
      "# lrInstance = Lr()\n",
      "# lrInstance.fit(tData, trainLabel)\n",
      "\n",
      "tData = featureExtraTest(np.array(testData), 1)\n",
      "for T in range(0, 20):\n",
      "    tResult = lrInstance.predict(tData)\n",
      "    tData = featureTransfrom(np.array(testData), 1, tResult)\n",
      "\n",
      "ROC(testLabel, tResult)\n",
      "\n",
      "tData = featureTransfrom(np.array(trainData), 1, np.array(trainLabel))\n"
     ],
     "language": "python",
     "metadata": {},
     "outputs": [
      {
       "output_type": "stream",
       "stream": "stdout",
       "text": [
        "Area under the ROC curve : 0.632438\n"
       ]
      },
      {
       "metadata": {},
       "output_type": "display_data",
       "png": "[encoded data removed]",
       "text": [
        "<matplotlib.figure.Figure at 0x10590d810>"
       ]
      }
     ],
     "prompt_number": 41
    },
    {
     "cell_type": "code",
     "collapsed": false,
     "input": [
      "result = clfRF.predict_proba(testData)\n",
      "result = result[:, 1:2]\n",
      "\n",
      "ROC(testLabel, result)\n",
      "\n",
      "labels = clfRF.predict(testData)\n",
      "cnt = 0\n",
      "for i in range(0, len(testLabel)):\n",
      "    if labels[i] != testLabel[i]:\n",
      "        cnt = cnt + 1\n",
      "\n",
      "print float(cnt)/float(len(testLabel))"
     ],
     "language": "python",
     "metadata": {},
     "outputs": [
      {
       "output_type": "stream",
       "stream": "stdout",
       "text": [
        "Area under the ROC curve : 0.696074\n"
       ]
      },
      {
       "metadata": {},
       "output_type": "display_data",
       "png": "[encoded data removed]",
       "text": [
        "<matplotlib.figure.Figure at 0x109a51dd0>"
       ]
      },
      {
       "output_type": "stream",
       "stream": "stdout",
       "text": [
        "0.473120774724\n"
       ]
      }
     ],
     "prompt_number": 33
    },
    {
     "cell_type": "code",
     "collapsed": false,
     "input": [],
     "language": "python",
     "metadata": {},
     "outputs": []
    }
   ],
   "metadata": {}
  }
 ]
}