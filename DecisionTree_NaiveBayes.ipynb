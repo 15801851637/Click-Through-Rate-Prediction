{
 "metadata": {
  "name": "",
  "signature": "sha256:196f804a717f99741f1fd32aee76c250995af3b698c21cef339a20bd7765b75f"
 },
 "nbformat": 3,
 "nbformat_minor": 0,
 "worksheets": [
  {
   "cells": [
    {
     "cell_type": "code",
     "collapsed": false,
     "input": [
      "import numpy as py\n",
      "from sklearn import tree\n",
      "from sklearn.naive_bayes import GaussianNB\n",
      "\n",
      "# read in the data\n",
      "file = open('Data/train1234_validation5_test6_new/train_1234_new_rehashed.txt')\n",
      "\n",
      "data = []\n",
      "label = []\n",
      "\n",
      "# prepare the training data\n",
      "for line in file:\n",
      "    li = list(map(int, line.split(',')))\n",
      "    label.append(li[0])\n",
      "    data.append(li[1:11])\n",
      "\n",
      "# train decision tree\n",
      "# clf = tree.DecisionTreeClassifier()\n",
      "# clf.fit(data, label)\n",
      "\n",
      "# train naive bayes\n",
      "gnb = GaussianNB()\n",
      "gnb.fit(data, label)\n",
      "\n",
      "# data = np.array(data)\n",
      "\n",
      "# subdata = data[:, 2]\n",
      "# subdata = subdata.tolist()\n",
      "# (count, clickCount) = featureExtract(subdata, label)"
     ],
     "language": "python",
     "metadata": {},
     "outputs": [
      {
       "metadata": {},
       "output_type": "pyout",
       "prompt_number": 49,
       "text": [
        "GaussianNB()"
       ]
      }
     ],
     "prompt_number": 49
    },
    {
     "cell_type": "code",
     "collapsed": false,
     "input": [
      "test_data = []\n",
      "test_label = []\n",
      "\n",
      "file = open('Data/train1234_validation5_test6_new/test_6_new_rehashed.txt')\n",
      "\n",
      "for line in file:\n",
      "    li = list(map(int, line.split(',')))\n",
      "    test_label.append(li[0])\n",
      "    test_data.append(li[1:11])\n",
      "    \n",
      "# result = clf.predict_proba(test_data)\n",
      "# result = result[:,1]\n",
      "result = gnb.predict_proba(test_data)\n",
      "result = result[:, 1]\n",
      "ROC(test_label, result)"
     ],
     "language": "python",
     "metadata": {},
     "outputs": [
      {
       "output_type": "stream",
       "stream": "stdout",
       "text": [
        "Area under the ROC curve : 0.604068\n"
       ]
      },
      {
       "metadata": {},
       "output_type": "display_data",
       "png": "[encoded data removed]",
       "text": [
        "<matplotlib.figure.Figure at 0x10c8eb5d0>"
       ]
      }
     ],
     "prompt_number": 50
    },
    {
     "cell_type": "code",
     "collapsed": false,
     "input": [
      "cnt = 0\n",
      "for i in range(0, len(test_label)):\n",
      "    if result[i] != test_label[i]:\n",
      "        cnt = cnt + 1\n",
      "\n",
      "print float(cnt)/float(len(test_label))"
     ],
     "language": "python",
     "metadata": {},
     "outputs": [
      {
       "output_type": "stream",
       "stream": "stdout",
       "text": [
        "0.17509819103\n"
       ]
      }
     ],
     "prompt_number": 9
    },
    {
     "cell_type": "code",
     "collapsed": false,
     "input": [
      "def featureExtract(data, label):\n",
      "    clickCount = {}\n",
      "    count = {}\n",
      "    for i in range(0, len(data)):\n",
      "        if data[i] not in count:\n",
      "            count[data[i]] = 1\n",
      "            clickCount[data[i]] = 0\n",
      "        else:\n",
      "            count[data[i]] = count[data[i]] + 1\n",
      "        \n",
      "        if label[i] == 1:\n",
      "            clickCount[data[i]] = clickCount[data[i]] + 1\n",
      "    \n",
      "    return (count, clickCount)"
     ],
     "language": "python",
     "metadata": {},
     "outputs": [],
     "prompt_number": 36
    },
    {
     "cell_type": "code",
     "collapsed": false,
     "input": [
      "def ROC(label,result):\n",
      "    %matplotlib inline\n",
      "    from sklearn.utils import shuffle\n",
      "    from sklearn.metrics import roc_curve, auc\n",
      "    import pylab as pl\n",
      "    import numpy as py\n",
      "    # Compute ROC curve and area the curve\n",
      "    Y = np.array(label)\n",
      "    fpr, tpr, thresholds = roc_curve(Y, result)\n",
      "    roc_auc = auc(fpr, tpr)\n",
      "    print \"Area under the ROC curve : %f\" % roc_auc\n",
      "\n",
      "    # Plot ROC curve\n",
      "    pl.clf()\n",
      "    pl.plot(fpr, tpr, label='ROC curve (area = %0.2f)' % roc_auc)\n",
      "    pl.plot([0, 1], [0, 1], 'k--')\n",
      "    pl.xlim([0.0, 1.0])\n",
      "    pl.ylim([0.0, 1.0])\n",
      "    pl.xlabel('False Positive Rate')\n",
      "    pl.ylabel('True Positive Rate')\n",
      "    pl.title('Receiver operating characteristic')\n",
      "    pl.legend(loc=\"lower right\")\n",
      "    pl.show()"
     ],
     "language": "python",
     "metadata": {},
     "outputs": [],
     "prompt_number": 41
    },
    {
     "cell_type": "code",
     "collapsed": false,
     "input": [],
     "language": "python",
     "metadata": {},
     "outputs": []
    }
   ],
   "metadata": {}
  }
 ]
}