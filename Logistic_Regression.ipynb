{
 "metadata": {
  "name": "",
  "signature": "sha256:f69ff48c47716098dc034879f15c3eb20e5da8ae6f18dc8923c2f181403d80b1"
 },
 "nbformat": 3,
 "nbformat_minor": 0,
 "worksheets": [
  {
   "cells": [
    {
     "cell_type": "code",
     "collapsed": false,
     "input": [
      "from sklearn.linear_model import LinearRegression as lr\n",
      "import numpy as np\n",
      "import random\n",
      "'''\n",
      "training:\n",
      "banner_pos: 7\n",
      "site_category: 24\n",
      "app_category: 35\n",
      "device_model: 7291 -- skip due to memory limited\n",
      "device_type: 4\n",
      "'''\n",
      "pos = [0,7,7+24,7+24+35]\n",
      "\n",
      "data = []\n",
      "label = []\n",
      "input_train_file = 'Data/train_1234_rehashed.txt'\n",
      "with open(input_train_file,'r') as infile:\n",
      "    for line in infile:\n",
      "        \n",
      "        k = random.randint(1,10)\n",
      "        if k > 2:\n",
      "            continue\n",
      "        \n",
      "        li = list(map(int, line.split(',')))\n",
      "\n",
      "        data.append([0 for b in range(7+24+35+4)])\n",
      "\n",
      "        for i in range(1,len(li)):\n",
      "            if i == len(li) - 2:\n",
      "                continue\n",
      "            elif i == len(li) - 1:\n",
      "                data[len(data) - 1][pos[i-2] + li[i]] = 1\n",
      "            else:\n",
      "                data[len(data) - 1][pos[i-1] + li[i]] = 1\n",
      "\n",
      "        label.append(li[0])\n",
      "\n",
      "X = np.array(data)\n",
      "Y = np.array(label)\n",
      "lr_instance = lr()\n",
      "lr_instance.fit(X, Y)"
     ],
     "language": "python",
     "metadata": {},
     "outputs": [
      {
       "metadata": {},
       "output_type": "pyout",
       "prompt_number": 1,
       "text": [
        "LinearRegression(copy_X=True, fit_intercept=True, normalize=False)"
       ]
      }
     ],
     "prompt_number": 1
    },
    {
     "cell_type": "code",
     "collapsed": false,
     "input": [
      "#Validation\n",
      "\n",
      "validation_data = []\n",
      "validation_label = []\n",
      "input_validation_file = 'Data/validation_5_rehashed.txt'\n",
      "with open(input_validation_file,'r') as infile:\n",
      "    for line in infile:\n",
      "        \n",
      "        li = list(map(int, line.split(',')))\n",
      "\n",
      "        validation_data.append([0 for b in range(7+24+35+4)])\n",
      "\n",
      "        for i in range(1,len(li)):\n",
      "            if i == len(li) - 2:\n",
      "                continue\n",
      "            elif i == len(li) - 1:\n",
      "                validation_data[len(validation_data) - 1][pos[i-2] + li[i]] = 1\n",
      "            else:\n",
      "                validation_data[len(validation_data) - 1][pos[i-1] + li[i]] = 1\n",
      "\n",
      "        validation_label.append(li[0])\n",
      "        \n",
      "X_validation = np.array(validation_data)\n",
      "Y_validation = np.array(validation_label)\n",
      "result = lr_instance.predict(X_validation)"
     ],
     "language": "python",
     "metadata": {},
     "outputs": [],
     "prompt_number": 2
    },
    {
     "cell_type": "code",
     "collapsed": false,
     "input": [
      "def ROC(label,result):\n",
      "    %matplotlib inline\n",
      "    from sklearn.utils import shuffle\n",
      "    from sklearn.metrics import roc_curve, auc\n",
      "    import pylab as pl\n",
      "    # Compute ROC curve and area the curve\n",
      "    Y = np.array(label)\n",
      "    fpr, tpr, thresholds = roc_curve(Y, result)\n",
      "    roc_auc = auc(fpr, tpr)\n",
      "    print \"Area under the ROC curve : %f\" % roc_auc\n",
      "\n",
      "    # Plot ROC curve\n",
      "    #pl.clf()\n",
      "    pl.plot(fpr, tpr, label='ROC curve (area = %0.2f)' % roc_auc)\n",
      "    pl.plot([0, 1], [0, 1], 'k--')\n",
      "    pl.xlim([0.0, 1.0])\n",
      "    pl.ylim([0.0, 1.0])\n",
      "    pl.xlabel('False Positive Rate')\n",
      "    pl.ylabel('True Positive Rate')\n",
      "    pl.title('Receiver operating characteristic')\n",
      "    pl.legend(loc=\"lower right\")\n",
      "    pl.show()"
     ],
     "language": "python",
     "metadata": {},
     "outputs": [],
     "prompt_number": 5
    },
    {
     "cell_type": "code",
     "collapsed": false,
     "input": [
      "ROC(Y_validation,result)"
     ],
     "language": "python",
     "metadata": {},
     "outputs": [
      {
       "output_type": "stream",
       "stream": "stdout",
       "text": [
        "Area under the ROC curve : 0.618585\n"
       ]
      },
      {
       "metadata": {},
       "output_type": "display_data",
       "png": "[encoded data removed]",
       "text": [
        "<matplotlib.figure.Figure at 0x1a45470d0>"
       ]
      }
     ],
     "prompt_number": 6
    }
   ],
   "metadata": {}
  }
 ]
}